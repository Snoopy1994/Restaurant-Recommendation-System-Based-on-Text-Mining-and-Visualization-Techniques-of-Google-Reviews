{
 "cells": [
  {
   "cell_type": "code",
   "execution_count": null,
   "metadata": {},
   "outputs": [],
   "source": [
    "import sys\n",
    "sys.path.append('..')"
   ]
  },
  {
   "cell_type": "code",
   "execution_count": null,
   "metadata": {},
   "outputs": [],
   "source": [
    "import os\n",
    "import glob\n",
    "import tqdm\n",
    "import pickle\n",
    "import ckiptagger\n",
    "import numpy as np\n",
    "import tensorflow as tf\n",
    "\n",
    "import utils\n",
    "import word_segment\n",
    "import google_reviews"
   ]
  },
  {
   "cell_type": "code",
   "execution_count": null,
   "metadata": {},
   "outputs": [],
   "source": [
    "data_path = '../../Google_review_raw_data/data/'\n",
    "\n",
    "# ckiptagger.data_utils.download_data_gdown(data_path)\n",
    "\n",
    "# set module level parameters for CKIP-tagger\n",
    "word_segment.set_CKIP_data(data_path)"
   ]
  },
  {
   "cell_type": "code",
   "execution_count": null,
   "metadata": {},
   "outputs": [],
   "source": [
    "dictionary = utils.load_dictionary('../../Google_review_raw_data/recommendation_dic.txt')"
   ]
  },
  {
   "cell_type": "code",
   "execution_count": null,
   "metadata": {},
   "outputs": [],
   "source": [
    "def load_pkl(path):\n",
    "    with open(path, 'rb') as fd:\n",
    "        return pickle.load(fd)\n",
    "\n",
    "def save_pkl(path, obj):\n",
    "    with open(path, 'wb') as fd:\n",
    "        pickle.dump(obj, fd)\n",
    "\n",
    "def google_review_handler(data, dictionary={}):\n",
    "\n",
    "    M = utils.batch_substring_finding(data.reviews, '(由 Google 提供翻譯)')\n",
    "    data = data[~M]\n",
    "    \n",
    "    reviews = [word_segment.word_segment_preprocess(i) for i in data.reviews]\n",
    "    reviews = np.array(reviews)\n",
    "    \n",
    "    M = reviews == ''\n",
    "    data = data[~M]\n",
    "    reviews = reviews[~M]\n",
    "    reviews = reviews.tolist()\n",
    "    \n",
    "    results = word_segment.apply_CKIP(reviews, dictionary=dictionary)\n",
    "    results['data'] = data\n",
    "    \n",
    "    return results"
   ]
  },
  {
   "cell_type": "markdown",
   "metadata": {},
   "source": [
    "take a store as a sample"
   ]
  },
  {
   "cell_type": "code",
   "execution_count": null,
   "metadata": {},
   "outputs": [],
   "source": [
    "path = '../../Google_review_raw_data/word_segments/taichung/Akuan Hot Pot.pkl'\n",
    "data = load_pkl(path)\n",
    "data"
   ]
  },
  {
   "cell_type": "code",
   "execution_count": null,
   "metadata": {},
   "outputs": [],
   "source": [
    "results = google_review_handler(data, dictionary=dictionary)"
   ]
  },
  {
   "cell_type": "code",
   "execution_count": null,
   "metadata": {},
   "outputs": [],
   "source": [
    "results['data']"
   ]
  },
  {
   "cell_type": "code",
   "execution_count": null,
   "metadata": {},
   "outputs": [],
   "source": [
    "for n, (i, j) in enumerate(zip(results['data'].reviews, results['ws'])):\n",
    "    # show first 5 reviews as demonstration\n",
    "    if n > 4:\n",
    "        break\n",
    "    print(i)\n",
    "    print(j)\n",
    "    print('---')"
   ]
  }
 ],
 "metadata": {
  "kernelspec": {
   "display_name": "Python 3",
   "language": "python",
   "name": "python3"
  },
  "language_info": {
   "codemirror_mode": {
    "name": "ipython",
    "version": 3
   },
   "file_extension": ".py",
   "mimetype": "text/x-python",
   "name": "python",
   "nbconvert_exporter": "python",
   "pygments_lexer": "ipython3",
   "version": "3.8.8"
  }
 },
 "nbformat": 4,
 "nbformat_minor": 2
}
