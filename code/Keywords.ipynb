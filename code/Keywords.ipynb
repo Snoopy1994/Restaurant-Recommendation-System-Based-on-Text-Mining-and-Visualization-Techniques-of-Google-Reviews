{
 "cells": [
  {
   "cell_type": "code",
   "execution_count": null,
   "id": "860f0a33",
   "metadata": {},
   "outputs": [],
   "source": [
    "import sys\n",
    "sys.path.append(\"..\")"
   ]
  },
  {
   "cell_type": "code",
   "execution_count": null,
   "id": "92639502",
   "metadata": {},
   "outputs": [],
   "source": [
    "import os\n",
    "import csv\n",
    "import pickle\n",
    "import numpy as np\n",
    "import pandas as pd\n",
    "import google_reviews\n",
    "from sklearn.metrics.pairwise import cosine_similarity\n",
    "from sklearn.feature_extraction.text import CountVectorizer\n",
    "from sklearn.feature_extraction.text import TfidfVectorizer"
   ]
  },
  {
   "cell_type": "code",
   "execution_count": null,
   "id": "1f55e8e6",
   "metadata": {},
   "outputs": [],
   "source": [
    "path = \"../../cleaned_data/tainan/word_segments/\""
   ]
  },
  {
   "cell_type": "code",
   "execution_count": null,
   "id": "f3fef31b",
   "metadata": {},
   "outputs": [],
   "source": [
    "# define function to read pickle\n",
    "def read_pickle(path):\n",
    "    if path[-4:] != '.pkl':\n",
    "        raise ValueError\n",
    "    with open(path, 'rb') as fd:\n",
    "        f = pickle.load(fd)\n",
    "    return f"
   ]
  },
  {
   "cell_type": "code",
   "execution_count": null,
   "id": "60ecd482",
   "metadata": {},
   "outputs": [],
   "source": [
    "#define fuction to choose words by pos \n",
    "def clear(ckip):\n",
    "    ckip_ = ckip.copy()\n",
    "    pos_dic = {\"Na\", \"Nb\"}\n",
    "    wss = []\n",
    "    poss = []\n",
    "    for ws, pos in zip(ckip_[\"ws\"], ckip_[\"pos\"]):\n",
    "        wss_ = []\n",
    "        poss_ = []\n",
    "        for i, j in zip(ws, pos):\n",
    "            if j in pos_dic:\n",
    "                wss_.append(i)\n",
    "                poss_.append(j)\n",
    "        wss.append(wss_)\n",
    "        poss.append(poss_)\n",
    "        \n",
    "    ckip_[\"ws\"] = wss\n",
    "    ckip_[\"pos\"] = poss\n",
    "    return ckip_"
   ]
  },
  {
   "cell_type": "code",
   "execution_count": null,
   "id": "18d4c63e",
   "metadata": {},
   "outputs": [],
   "source": [
    "# define function to union each word segment result for each shop\n",
    "def union_ws_result(ckip):\n",
    "    doc = []\n",
    "    for ws in ckip[\"ws\"]:\n",
    "        for i in ws:\n",
    "            doc.append(i)\n",
    "    return doc"
   ]
  },
  {
   "cell_type": "markdown",
   "id": "d8e651fd",
   "metadata": {},
   "source": [
    "Get analysis data"
   ]
  },
  {
   "cell_type": "code",
   "execution_count": null,
   "id": "332bd1e8",
   "metadata": {},
   "outputs": [],
   "source": [
    "ws_all = {}\n",
    "\n",
    "# read all pickle files\n",
    "for filename in os.listdir(path):\n",
    "    if filename.endswith(\".pkl\"):\n",
    "        ckip = read_pickle(os.path.join(path, filename))\n",
    "        ckip_ = clear(ckip)\n",
    "        #union result to dictionary\n",
    "        result = union_ws_result(ckip_)\n",
    "        ws_all[filename.replace(\".pkl\", \"\") ]= result"
   ]
  },
  {
   "cell_type": "code",
   "execution_count": null,
   "id": "e28f9b1d",
   "metadata": {},
   "outputs": [],
   "source": [
    "ws_all"
   ]
  },
  {
   "cell_type": "code",
   "execution_count": null,
   "id": "6fa7a90d",
   "metadata": {},
   "outputs": [],
   "source": [
    "#get top N keywords (with term frequency)\n",
    "def get_top_n_words(corpus, n=None):\n",
    "    vec = CountVectorizer().fit(corpus)\n",
    "    bag_of_words = vec.transform(corpus)\n",
    "    sum_words = bag_of_words.sum(axis=0) \n",
    "    words_freq = [(word, sum_words[0, idx]) for word, idx in vec.vocabulary_.items()]\n",
    "    words_freq =sorted(words_freq, key = lambda x: x[1], reverse=True)\n",
    "    return words_freq[:n]"
   ]
  },
  {
   "cell_type": "code",
   "execution_count": null,
   "id": "b7203be6",
   "metadata": {},
   "outputs": [],
   "source": [
    "dic = pd.read_excel(\"../../dic.xlsx\")\n",
    "df = pd.DataFrame(dic)\n",
    "four_aspect = df.set_index(['word'])[\"category\"].to_dict()"
   ]
  },
  {
   "cell_type": "code",
   "execution_count": null,
   "id": "09aa825d",
   "metadata": {},
   "outputs": [],
   "source": [
    "category"
   ]
  },
  {
   "cell_type": "code",
   "execution_count": null,
   "id": "82dccf9d",
   "metadata": {},
   "outputs": [],
   "source": [
    "#save term frequency to csv file\n",
    "output_folder = \"../../Google_review_code/result/keywords/Tainan/\"\n",
    "for key in ws_all:\n",
    "    common_words = get_top_n_words(ws_all[key], 20)\n",
    "    filename = pd.DataFrame(common_words, columns = ['keywords' , 'counts'])\n",
    "    filename.to_csv(os.path.join(output_folder, key+\".csv\"), index=False)"
   ]
  },
  {
   "cell_type": "code",
   "execution_count": null,
   "id": "b77f448d",
   "metadata": {},
   "outputs": [],
   "source": []
  }
 ],
 "metadata": {
  "kernelspec": {
   "display_name": "Python 3",
   "language": "python",
   "name": "python3"
  },
  "language_info": {
   "codemirror_mode": {
    "name": "ipython",
    "version": 3
   },
   "file_extension": ".py",
   "mimetype": "text/x-python",
   "name": "python",
   "nbconvert_exporter": "python",
   "pygments_lexer": "ipython3",
   "version": "3.8.8"
  }
 },
 "nbformat": 4,
 "nbformat_minor": 5
}
