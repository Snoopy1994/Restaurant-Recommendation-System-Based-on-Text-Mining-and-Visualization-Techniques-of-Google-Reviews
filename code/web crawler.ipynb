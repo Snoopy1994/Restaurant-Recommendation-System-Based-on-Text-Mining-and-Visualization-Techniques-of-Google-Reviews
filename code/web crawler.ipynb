{
 "cells": [
  {
   "cell_type": "code",
   "execution_count": null,
   "id": "5c019859",
   "metadata": {},
   "outputs": [],
   "source": [
    "import requests\n",
    "import json\n",
    "import random\n",
    "import time\n",
    "import csv\n",
    "import datetime\n",
    "import pandas as pd\n",
    "from fake_useragent import UserAgent"
   ]
  },
  {
   "cell_type": "code",
   "execution_count": null,
   "id": "efeaf94a",
   "metadata": {},
   "outputs": [],
   "source": [
    "ua = UserAgent()\n",
    "user_agent = ua.random"
   ]
  },
  {
   "cell_type": "code",
   "execution_count": null,
   "id": "0ce95b32",
   "metadata": {},
   "outputs": [],
   "source": [
    "import re #regular expression\n",
    "import os #operating system\n",
    "import pickle \n",
    "from alive_progress import alive_bar #progress bar\n",
    "import utils"
   ]
  },
  {
   "cell_type": "code",
   "execution_count": null,
   "id": "8c4c6f75",
   "metadata": {},
   "outputs": [],
   "source": [
    "import sys\n",
    "sys.path.append('/Users/nadia/CKIP/')"
   ]
  },
  {
   "cell_type": "code",
   "execution_count": null,
   "id": "dc3baec0",
   "metadata": {},
   "outputs": [],
   "source": [
    "def crawl_places(ltrs, pretext=')]}\\'', pattern=\"1i0\"):\n",
    "    j = 0\n",
    "    reviews = []\n",
    "    while True:\n",
    "        url = ltrs[:ltrs.index(pattern)+2] \\\n",
    "            + str(j) \\\n",
    "            + ltrs[ltrs.index(pattern)-len(ltrs)+len(pattern):]\n",
    "    \n",
    "        headers = {'user-agent': ua.random}\n",
    "        text = requests.get(url, headers=headers).text\n",
    "        text = text.replace(pretext, '')  \n",
    "        soup = json.loads(text)\n",
    "        review_list = soup[2] \n",
    "        time.sleep(random.uniform(0.1, 1))\n",
    "        if review_list is None:\n",
    "            break\n",
    "        reviews.extend(review_list)\n",
    "        j = j + 10\n",
    "    return reviews"
   ]
  },
  {
   "cell_type": "code",
   "execution_count": null,
   "id": "bf462436",
   "metadata": {},
   "outputs": [],
   "source": [
    "route = r\"/Users/nadia/Desktop/google reviews\"\n",
    "route_1 = r\"/Users/nadia/Desktop/google reviews/店家名單/爬蟲名單\"\n",
    "route_2 = r\"/Users/nadia/Desktop/google reviews/爬蟲檔案\"\n",
    "places_csv = pd.read_csv(os.path.join(route_1, 'test.csv'))"
   ]
  },
  {
   "cell_type": "code",
   "execution_count": null,
   "id": "00b1f314",
   "metadata": {},
   "outputs": [],
   "source": [
    "checked_filenames = []\n",
    "# add alive bar\n",
    "with alive_bar(len(places_csv), force_tty = True) as bar:\n",
    "    for file_name, ltrs in zip(places_csv['names'], places_csv['ltrs']):\n",
    "        file_name = file_name.replace('/', '')\n",
    "        if pd.isna(ltrs):\n",
    "            continue\n",
    "             \n",
    "        now = datetime.datetime.now()\n",
    "        date = str(now.date()).replace('-', \"_\")\n",
    "        utils.mkdir(os.path.join(r'/Users/nadia/raw data', date))\n",
    "        f = os.path.join(r'/Users/nadia/raw data', date, file_name + '.pkl')\n",
    "        if file_name + (\".pkl\" or \".csv\") in \\\n",
    "            os.listdir(os.path.join(r'/Users/nadia/raw data', date)):\n",
    "            continue\n",
    "\n",
    "        # parse all reviews\n",
    "        pattern = '1i[0-9]*'\n",
    "        pattern = re.findall(pattern, ltrs)[0]\n",
    "        try:\n",
    "            reviews = crawl_places(ltrs, pattern=pattern)\n",
    "        except:\n",
    "            checked_filenames.append(file_name)\n",
    "            continue\n",
    "\n",
    "        # save raw data into pickle file\n",
    "        with open(f, 'wb') as fd:\n",
    "            pickle.dump(reviews, fd)\n",
    "\n",
    "        usernames = [i[0][1] for i in reviews if i[3] != None]\n",
    "        times     = [i[1] for i in reviews if i[3] != None]\n",
    "        comments  = [i[3] for i in reviews if i[3] != None]\n",
    "\n",
    "        reviews = pd.DataFrame(\n",
    "            {\"usernames\": usernames, \"times\": times, \"comments\": comments})\n",
    "        \n",
    "        utils.mkdir(os.path.join(route_2, date))\n",
    "        f = os.path.join(route_2, date, file_name)\n",
    "        reviews.to_csv(f + '.csv', index=None, encoding = \"utf8\")\n",
    "        \n",
    "        bar()"
   ]
  },
  {
   "cell_type": "code",
   "execution_count": null,
   "id": "e32be004",
   "metadata": {},
   "outputs": [],
   "source": [
    "# check files not included\n",
    "\n",
    "for file_name, ltrs in zip(places_csv['names'], places_csv['ltrs']):\n",
    "    if file_name + \".csv\" in os.listdir(os.path.join(route_2, \"2022_08_02\")):\n",
    "            continue\n",
    "    else:\n",
    "        print(file_name)"
   ]
  },
  {
   "cell_type": "code",
   "execution_count": null,
   "id": "81d43f9c",
   "metadata": {},
   "outputs": [],
   "source": [
    "# example of loading pickle file\n",
    "with open(f + '.pkl', 'rb') as fd:\n",
    "    reviews = pickle.load(fd)"
   ]
  },
  {
   "cell_type": "code",
   "execution_count": null,
   "id": "a435f3f7",
   "metadata": {},
   "outputs": [],
   "source": []
  }
 ],
 "metadata": {
  "kernelspec": {
   "display_name": "Python 3",
   "language": "python",
   "name": "python3"
  },
  "language_info": {
   "codemirror_mode": {
    "name": "ipython",
    "version": 3
   },
   "file_extension": ".py",
   "mimetype": "text/x-python",
   "name": "python",
   "nbconvert_exporter": "python",
   "pygments_lexer": "ipython3",
   "version": "3.8.8"
  }
 },
 "nbformat": 4,
 "nbformat_minor": 5
}
