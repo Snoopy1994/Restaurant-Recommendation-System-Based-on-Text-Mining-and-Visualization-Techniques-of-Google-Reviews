{
 "cells": [
  {
   "cell_type": "code",
   "execution_count": null,
   "id": "fb2bb1c1",
   "metadata": {},
   "outputs": [],
   "source": [
    "import sys\n",
    "sys.path.append('..')"
   ]
  },
  {
   "cell_type": "code",
   "execution_count": null,
   "id": "3215f889",
   "metadata": {},
   "outputs": [],
   "source": [
    "import word_segment"
   ]
  },
  {
   "cell_type": "code",
   "execution_count": null,
   "id": "307fb554",
   "metadata": {},
   "outputs": [],
   "source": [
    "word_segment"
   ]
  },
  {
   "cell_type": "code",
   "execution_count": null,
   "id": "ef943dd1",
   "metadata": {},
   "outputs": [],
   "source": [
    "import google_reviews"
   ]
  },
  {
   "cell_type": "code",
   "execution_count": null,
   "id": "a858eaa8",
   "metadata": {},
   "outputs": [],
   "source": [
    "review_data = google_reviews.discover_review_data('/Users/nadia/raw data/')"
   ]
  },
  {
   "cell_type": "code",
   "execution_count": null,
   "id": "5ab54f11",
   "metadata": {},
   "outputs": [],
   "source": [
    "google_reviews.save_review_data('../review_data.json', review_data)"
   ]
  }
 ],
 "metadata": {
  "kernelspec": {
   "display_name": "Python 3",
   "language": "python",
   "name": "python3"
  },
  "language_info": {
   "codemirror_mode": {
    "name": "ipython",
    "version": 3
   },
   "file_extension": ".py",
   "mimetype": "text/x-python",
   "name": "python",
   "nbconvert_exporter": "python",
   "pygments_lexer": "ipython3",
   "version": "3.8.8"
  }
 },
 "nbformat": 4,
 "nbformat_minor": 5
}
