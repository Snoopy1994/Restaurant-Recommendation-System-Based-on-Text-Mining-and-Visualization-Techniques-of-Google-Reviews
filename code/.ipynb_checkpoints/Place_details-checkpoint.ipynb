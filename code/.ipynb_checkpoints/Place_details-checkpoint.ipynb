{
 "cells": [
  {
   "cell_type": "code",
   "execution_count": null,
   "id": "cdbf5f16",
   "metadata": {},
   "outputs": [],
   "source": [
    "import requests\n",
    "import json\n",
    "import pandas as pd\n",
    "import csv\n",
    "import time"
   ]
  },
  {
   "cell_type": "code",
   "execution_count": null,
   "id": "c01868e0",
   "metadata": {},
   "outputs": [],
   "source": [
    "def get_url(place_id, api_key,\n",
    "            fields=None, language=None, region=None, verbose=True):\n",
    "    prefix = \"https://maps.googleapis.com/maps/api/place/details/json?\"\n",
    "    options = [\n",
    "        \"place_id={place_id}\".format(place_id=place_id),\n",
    "        \"key={key}\".format(key = api_key),\n",
    "    ]\n",
    "    \n",
    "    if fields is not None:\n",
    "        options.append(\n",
    "            \"fields={fields}\".format(fields=fields)\n",
    "        )\n",
    "    \n",
    "    if language is not None:\n",
    "        options.append(\n",
    "            \"language={language}\".format(language=language)\n",
    "        )\n",
    "        \n",
    "    if region is not None:\n",
    "        options.append(\n",
    "            \"region={region}\".format(region=region)\n",
    "        )\n",
    "    \n",
    "    url = prefix + '&'.join(options)\n",
    "    if verbose:\n",
    "        print(url)\n",
    "        \n",
    "    response = requests.get(url)\n",
    "    res = json.loads(response.text)\n",
    "    return res"
   ]
  },
  {
   "cell_type": "code",
   "execution_count": null,
   "id": "19d01c5b",
   "metadata": {},
   "outputs": [],
   "source": [
    "def place_details(place_id, api_key,\n",
    "            fields=None, language=None, region=None, sessiontoken=None, verbose=True):\n",
    "    place = []\n",
    "    r = get_url(place_id, api_key,\n",
    "            fields=fields, language=language, region=region, verbose=verbose)\n",
    "    \n",
    "    if r['status'] != 'OK':\n",
    "        return place\n",
    "\n",
    "    place.extend(r['result']['reviews'])\n",
    "    \n",
    "    return place"
   ]
  },
  {
   "cell_type": "code",
   "execution_count": null,
   "id": "780b762b",
   "metadata": {},
   "outputs": [],
   "source": [
    "filename = \"McDonald's Taipei Zoo\"\n",
    "info = place_details(\n",
    "    \"ChIJL-BJs3aqQjQRLgXRc-JrSIk\",\n",
    "    APIKEY,\n",
    "    fields= \"reviews\",\n",
    "    language = \"zh-Hant\"\n",
    ")"
   ]
  },
  {
   "cell_type": "code",
   "execution_count": null,
   "id": "f41b4bc4",
   "metadata": {},
   "outputs": [],
   "source": [
    "usernames = [i['author_name'] for i in info]\n",
    "times = [i['relative_time_description'] for i in info]\n",
    "comments = [i['text'] for i in info]"
   ]
  },
  {
   "cell_type": "code",
   "execution_count": null,
   "id": "bacef146",
   "metadata": {},
   "outputs": [],
   "source": [
    "for i, j, k in zip(usernames, times, comments):\n",
    "    print (i, j, k)"
   ]
  },
  {
   "cell_type": "code",
   "execution_count": null,
   "id": "0815babc",
   "metadata": {},
   "outputs": [],
   "source": [
    "df = pd.DataFrame ({\"usernames\": usernames,\n",
    "                    \"times\": times, \n",
    "                    \"comments\": comments})\n",
    "\n",
    "df.to_csv(filename+\".csv\", index= None, encoding = \"utf8\")\n"
   ]
  },
  {
   "cell_type": "code",
   "execution_count": null,
   "id": "b9c10ed2",
   "metadata": {},
   "outputs": [],
   "source": []
  }
 ],
 "metadata": {
  "kernelspec": {
   "display_name": "Python 3",
   "language": "python",
   "name": "python3"
  },
  "language_info": {
   "codemirror_mode": {
    "name": "ipython",
    "version": 3
   },
   "file_extension": ".py",
   "mimetype": "text/x-python",
   "name": "python",
   "nbconvert_exporter": "python",
   "pygments_lexer": "ipython3",
   "version": "3.8.8"
  }
 },
 "nbformat": 4,
 "nbformat_minor": 5
}
