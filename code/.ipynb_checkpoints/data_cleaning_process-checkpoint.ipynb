{
 "cells": [
  {
   "cell_type": "code",
   "execution_count": null,
   "id": "ed49881c",
   "metadata": {},
   "outputs": [],
   "source": [
    "import re\n",
    "import os\n",
    "import pandas as pd\n",
    "import emoji\n",
    "import shutil"
   ]
  },
  {
   "cell_type": "code",
   "execution_count": null,
   "id": "3e940a61",
   "metadata": {},
   "outputs": [],
   "source": [
    "route = r\"/Users/nadia/Desktop/google reviews/爬蟲檔案\""
   ]
  },
  {
   "cell_type": "code",
   "execution_count": null,
   "id": "dcbab113",
   "metadata": {},
   "outputs": [],
   "source": [
    "pattern = r'\\d{4}_\\d{2}_\\d{2}' #(y_m_d)\n",
    "\n",
    "data_folders = os.listdir(route)\n",
    "data_folders = [i for i in data_folders if re.match(pattern, i)]\n",
    "data_folders = sorted(data_folders)\n",
    "data_folders = data_folders[:1] #use which folder(s)\n",
    "data_folders"
   ]
  },
  {
   "cell_type": "code",
   "execution_count": null,
   "id": "152ec8a0",
   "metadata": {},
   "outputs": [],
   "source": [
    "output_folder = r'/Users/nadia/CKIP/temporary_cache'"
   ]
  },
  {
   "cell_type": "code",
   "execution_count": null,
   "id": "4f1b6e54",
   "metadata": {},
   "outputs": [],
   "source": [
    "#read file from folder\n",
    "data_directory = os.path.join(route, data_folders[0])\n",
    "\n",
    "for filenames in os.listdir(data_directory):\n",
    "    if filenames.endswith(\".csv\"):\n",
    "        a = os.path.join(data_directory, filenames)\n",
    "        data = pd.read_csv(a) #pandas.core.frame.DataFrame\n",
    "        data = data[~data[\"comments\"].str.contains(\"(由 Google 提供翻譯)\")] #delete translation\n",
    "\n",
    "        # remove emoji &puntuation\n",
    "        results = []\n",
    "        for i in data['comments'].to_list() :\n",
    "            text = emoji.demojize(i) \n",
    "            result = re.sub(':\\S+?:', ' ', text) #remove emoji\n",
    "            result = \" \".join(result.split()) # rm duplicate blanks in string\n",
    "            result = re.sub(r\"^\\s+|\\s+$\", \"\", result) #rm start&end blanks in string\n",
    "            result = re.sub(r'[^\\w\\s]',' ', result) #rm punctuation\n",
    "            results.append(result)\n",
    "        \n",
    "        output_csv = pd.DataFrame(results, index=data.index, columns=['comments'])\n",
    "        indexName = output_csv[output_csv['comments'] == \"\"].index #rm blank row\n",
    "        output_csv.drop(indexName, inplace=True)\n",
    "        f = os.path.join(output_folder, filenames)\n",
    "        output_csv.to_csv(f, encoding = \"utf8\")"
   ]
  }
 ],
 "metadata": {
  "kernelspec": {
   "display_name": "Python 3",
   "language": "python",
   "name": "python3"
  },
  "language_info": {
   "codemirror_mode": {
    "name": "ipython",
    "version": 3
   },
   "file_extension": ".py",
   "mimetype": "text/x-python",
   "name": "python",
   "nbconvert_exporter": "python",
   "pygments_lexer": "ipython3",
   "version": "3.8.8"
  }
 },
 "nbformat": 4,
 "nbformat_minor": 5
}
