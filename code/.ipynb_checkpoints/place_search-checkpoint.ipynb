{
 "cells": [
  {
   "cell_type": "code",
   "execution_count": null,
   "id": "08454645",
   "metadata": {},
   "outputs": [],
   "source": [
    "import requests\n",
    "import json\n",
    "import pandas as pd\n",
    "import csv\n",
    "import time\n",
    "\n",
    "#APIKEY = "
   ]
  },
  {
   "cell_type": "code",
   "execution_count": null,
   "id": "bfb72eed",
   "metadata": {},
   "outputs": [],
   "source": [
    "def request_places(lat, lon, radius, api_key,\n",
    "                 place_type=None, page_token=None, verbose=True):\n",
    "    prefix = \"https://maps.googleapis.com/maps/api/place/nearbysearch/json?\"\n",
    "    \n",
    "    options = [\n",
    "        'location={lat},{lon}'.format(lat=lat, lon=lon),\n",
    "        'radius={r}'.format(r=radius),\n",
    "        'key={k}'.format(k=api_key),\n",
    "    ]\n",
    "    \n",
    "    if place_type is not None and not isinstance(place_type, str):\n",
    "        raise ValueError('place_type should be string')\n",
    "    \n",
    "    if place_type is not None:\n",
    "        options.append(\n",
    "            'type={t}'.format(t=place_type)\n",
    "        )\n",
    "    \n",
    "    if page_token is not None:\n",
    "        options.append(\n",
    "            'pagetoken={t}'.format(t=page_token)\n",
    "        )\n",
    "    \n",
    "    url = prefix + '&'.join(options)\n",
    "    if verbose:\n",
    "        print(url)\n",
    "        \n",
    "    response = requests.get(url)\n",
    "    res = json.loads(response.text)\n",
    "    return res"
   ]
  },
  {
   "cell_type": "code",
   "execution_count": null,
   "id": "a5df79ff",
   "metadata": {},
   "outputs": [],
   "source": [
    "def parse_places(lat, lon, radius, api_key,\n",
    "                 place_type=None, page_token=None, verbose=True):\n",
    "    places = []\n",
    "    r = request_places(lat, lon, radius, api_key,\n",
    "                       place_type=place_type, page_token=page_token, verbose=verbose)\n",
    "    \n",
    "    if r['status'] != 'OK':\n",
    "        return places\n",
    "    \n",
    "    places.extend(r['results'])\n",
    "    while True:\n",
    "        page_token = r.get(\"next_page_token\", None)\n",
    "        if r['status'] != 'OK' or page_token is None:\n",
    "            break\n",
    "            \n",
    "        time.sleep(5)\n",
    "        r = request_places(lat, lon, radius, api_key, \n",
    "                           place_type=place_type, page_token=page_token, verbose=verbose)\n",
    "        places.extend(r['results'])\n",
    "    \n",
    "    return places"
   ]
  },
  {
   "cell_type": "code",
   "execution_count": null,
   "id": "02f0920b",
   "metadata": {},
   "outputs": [],
   "source": [
    "filename = \"臺北市立美術館\"\n",
    "\n",
    "places = parse_places(\n",
    "    25.0724118,121.5226215,\n",
    "    1000,\n",
    "    APIKEY,\n",
    "    place_type='restaurant'\n",
    ")"
   ]
  },
  {
   "cell_type": "code",
   "execution_count": null,
   "id": "4e746eab",
   "metadata": {},
   "outputs": [],
   "source": [
    "lats = [i['geometry']['location']['lat'] for i in places]\n",
    "lons = [i['geometry']['location']['lng'] for i in places]\n",
    "names = [i['name'] for i in places]\n",
    "place_ids = [i['place_id'] for i in places]\n",
    "ratings = [i.get('rating', 0) for i in places]"
   ]
  },
  {
   "cell_type": "code",
   "execution_count": null,
   "id": "1ef5ebae",
   "metadata": {},
   "outputs": [],
   "source": [
    "#Place Types : https://developers.google.com/maps/documentation/places/web-service/supported_types"
   ]
  },
  {
   "cell_type": "code",
   "execution_count": null,
   "id": "995a68c6",
   "metadata": {},
   "outputs": [],
   "source": [
    "for i, j, k, l, m in zip(lats, lons, names, place_ids, ratings):\n",
    "    print (i, j, k, l, m)"
   ]
  },
  {
   "cell_type": "code",
   "execution_count": null,
   "id": "1826afe3",
   "metadata": {},
   "outputs": [],
   "source": [
    "url = []\n",
    "for i in range(len(lats)):\n",
    "    wc_url = \"https://www.google.com/maps/search/?api=1&query={lats},{lons}&query_place_id={place_ids}\".format(lats=lats[i], lons=lons[i], place_ids=place_ids[i])\n",
    "    url.append(wc_url)\n",
    "        "
   ]
  },
  {
   "cell_type": "code",
   "execution_count": null,
   "id": "102fd39d",
   "metadata": {},
   "outputs": [],
   "source": [
    "df = pd.DataFrame ({\"names\": names,\n",
    "                    \"lats\": lats, \n",
    "                    \"lons\": lons, \n",
    "                    \"place_ids\": place_ids, \n",
    "                    \"ratings\": ratings})\n",
    "\n",
    "df.to_csv(filename+\".csv\", index= None, encoding = \"utf8\")\n",
    "\n",
    "df = pd.DataFrame ({\"names\": names,\n",
    "                    \"lats\": lats, \n",
    "                    \"lons\": lons, \n",
    "                    \"place_ids\": place_ids, \n",
    "                    \"ratings\": ratings,\n",
    "                    \"url\": url})\n",
    "df.to_excel(filename+\".xlsx\", index= None)"
   ]
  },
  {
   "cell_type": "code",
   "execution_count": null,
   "id": "dcab4ad1",
   "metadata": {},
   "outputs": [],
   "source": []
  },
  {
   "cell_type": "code",
   "execution_count": null,
   "id": "a0ed05d6",
   "metadata": {},
   "outputs": [],
   "source": []
  }
 ],
 "metadata": {
  "kernelspec": {
   "display_name": "Python 3",
   "language": "python",
   "name": "python3"
  },
  "language_info": {
   "codemirror_mode": {
    "name": "ipython",
    "version": 3
   },
   "file_extension": ".py",
   "mimetype": "text/x-python",
   "name": "python",
   "nbconvert_exporter": "python",
   "pygments_lexer": "ipython3",
   "version": "3.8.8"
  }
 },
 "nbformat": 4,
 "nbformat_minor": 5
}
