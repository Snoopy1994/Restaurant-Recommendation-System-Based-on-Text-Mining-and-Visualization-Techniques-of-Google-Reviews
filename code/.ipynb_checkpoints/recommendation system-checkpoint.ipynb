{
 "cells": [
  {
   "cell_type": "code",
   "execution_count": null,
   "id": "fb4d7b37",
   "metadata": {},
   "outputs": [],
   "source": [
    "import sys\n",
    "sys.path.append(\"..\")"
   ]
  },
  {
   "cell_type": "code",
   "execution_count": null,
   "id": "92639502",
   "metadata": {},
   "outputs": [],
   "source": [
    "import os\n",
    "import csv\n",
    "import pickle\n",
    "import numpy as np\n",
    "import pandas as pd\n",
    "from sklearn.metrics.pairwise import cosine_similarity\n",
    "from sklearn.feature_extraction.text import CountVectorizer\n",
    "from sklearn.feature_extraction.text import TfidfVectorizer\n",
    "import google_reviews\n",
    "import utils"
   ]
  },
  {
   "cell_type": "code",
   "execution_count": null,
   "id": "1f55e8e6",
   "metadata": {},
   "outputs": [],
   "source": [
    "path = \"../../cleaned_data/taichung/word_segments/\""
   ]
  },
  {
   "cell_type": "code",
   "execution_count": null,
   "id": "f3fef31b",
   "metadata": {},
   "outputs": [],
   "source": [
    "# define function to read pickle\n",
    "def read_pickle(path):\n",
    "    if path[-4:] != '.pkl':\n",
    "        raise ValueError\n",
    "    with open(path, 'rb') as fd:\n",
    "        f = pickle.load(fd)\n",
    "    return f"
   ]
  },
  {
   "cell_type": "code",
   "execution_count": null,
   "id": "60ecd482",
   "metadata": {},
   "outputs": [],
   "source": [
    "#define fuction to choose words by pos \n",
    "def clear(ckip):\n",
    "    ckip_ = ckip.copy()\n",
    "    pos_dic = {\"Na\", \"Nb\"}\n",
    "    wss = []\n",
    "    poss = []\n",
    "    for ws, pos in zip(ckip_[\"ws\"], ckip_[\"pos\"]):\n",
    "        wss_ = []\n",
    "        poss_ = []\n",
    "        for i, j in zip(ws, pos):\n",
    "            if j in pos_dic:\n",
    "                wss_.append(i)\n",
    "                poss_.append(j)\n",
    "        wss.append(wss_)\n",
    "        poss.append(poss_)\n",
    "        \n",
    "    ckip_[\"ws\"] = wss\n",
    "    ckip_[\"pos\"] = poss\n",
    "    return ckip_"
   ]
  },
  {
   "cell_type": "code",
   "execution_count": null,
   "id": "18d4c63e",
   "metadata": {},
   "outputs": [],
   "source": [
    "# define function to union each word segment result for each shop\n",
    "def union_ws_result(ckip):\n",
    "    doc = []\n",
    "    for ws in ckip[\"ws\"]:\n",
    "        for i in ws:\n",
    "            doc.append(i)\n",
    "    return doc"
   ]
  },
  {
   "cell_type": "markdown",
   "id": "d8e651fd",
   "metadata": {},
   "source": [
    "Get analysis data"
   ]
  },
  {
   "cell_type": "code",
   "execution_count": null,
   "id": "332bd1e8",
   "metadata": {},
   "outputs": [],
   "source": [
    "ws_all = {}\n",
    "\n",
    "# read all pickle files\n",
    "for filename in os.listdir(path):\n",
    "    if filename.endswith(\".pkl\"):\n",
    "        ckip = read_pickle(os.path.join(path, filename))\n",
    "        ckip_ = clear(ckip)\n",
    "        #union result to dictionary\n",
    "        result = union_ws_result(ckip_)\n",
    "        ws_all[filename.replace(\".pkl\", \"\") ]= result"
   ]
  },
  {
   "cell_type": "raw",
   "id": "a00b9957",
   "metadata": {},
   "source": [
    "Save files"
   ]
  },
  {
   "cell_type": "code",
   "execution_count": null,
   "id": "d5ae5cb8",
   "metadata": {},
   "outputs": [],
   "source": [
    "# f = os.path.join(\"../../Google_review_code/all_data/\" + 'Tainan.pkl')\n",
    "# with open(f, \"wb\") as fd:\n",
    "#     pickle.dump(ws_all, fd)"
   ]
  },
  {
   "cell_type": "code",
   "execution_count": null,
   "id": "6fa7a90d",
   "metadata": {},
   "outputs": [],
   "source": [
    "#get top N keywords (with term frequency)\n",
    "def get_top_n_words(corpus, n=None):\n",
    "    vec = CountVectorizer().fit(corpus)\n",
    "    bag_of_words = vec.transform(corpus)\n",
    "    sum_words = bag_of_words.sum(axis=0) \n",
    "    words_freq = [(word, sum_words[0, idx]) for word, idx in vec.vocabulary_.items()]\n",
    "    words_freq =sorted(words_freq, key = lambda x: x[1], reverse=True)\n",
    "    return words_freq[:n]"
   ]
  },
  {
   "cell_type": "code",
   "execution_count": null,
   "id": "82dccf9d",
   "metadata": {},
   "outputs": [],
   "source": [
    "# #save term frequency to csv file\n",
    "# output_folder = \"../../Google_review_code/result/keywords/Tainan/\"\n",
    "# for key in ws_all:\n",
    "#     common_words = get_top_n_words(ws_all[key], 20)\n",
    "#     filename = pd.DataFrame(common_words, columns = ['keywords' , 'counts'])\n",
    "#     filename.to_csv(os.path.join(output_folder, key+\".csv\"), index=False)"
   ]
  },
  {
   "cell_type": "raw",
   "id": "d76911fb",
   "metadata": {},
   "source": [
    "Content Recommendation"
   ]
  },
  {
   "cell_type": "code",
   "execution_count": null,
   "id": "5c300395",
   "metadata": {},
   "outputs": [],
   "source": [
    "#change ws_all dictionary to new dictionary, values: from list of strings to string\n",
    "new_dict = {}\n",
    "for k, v in ws_all.items():\n",
    "    v= \" \".join(v)\n",
    "    new_dict[k]=v"
   ]
  },
  {
   "cell_type": "code",
   "execution_count": null,
   "id": "ed8f8dc1",
   "metadata": {},
   "outputs": [],
   "source": [
    "df = pd.DataFrame(new_dict.items(), columns=[\"restaurant\", \"keywords\"])\n",
    "df.set_index('restaurant', inplace = True)"
   ]
  },
  {
   "cell_type": "code",
   "execution_count": null,
   "id": "0eb68f73",
   "metadata": {},
   "outputs": [],
   "source": [
    "df"
   ]
  },
  {
   "cell_type": "code",
   "execution_count": null,
   "id": "1834a12d",
   "metadata": {},
   "outputs": [],
   "source": [
    "df.shape"
   ]
  },
  {
   "cell_type": "code",
   "execution_count": null,
   "id": "62d9e03a",
   "metadata": {},
   "outputs": [],
   "source": [
    "# arr = 1. * cv_mx.toarray()"
   ]
  },
  {
   "cell_type": "code",
   "execution_count": null,
   "id": "779d7b03",
   "metadata": {
    "scrolled": true
   },
   "outputs": [],
   "source": [
    "# A = np.sum(arr[0] * arr, axis=-1) / np.sqrt(np.sum(arr[0] ** 2)) / np.sqrt(np.sum(arr ** 2, axis=-1))"
   ]
  },
  {
   "cell_type": "code",
   "execution_count": null,
   "id": "dec3162d",
   "metadata": {},
   "outputs": [],
   "source": [
    "# np.all(np.isclose(A, cosine_sim[0]))"
   ]
  },
  {
   "cell_type": "code",
   "execution_count": null,
   "id": "8fabefc0",
   "metadata": {},
   "outputs": [],
   "source": [
    "# convert to TF matrix\n",
    "cv = CountVectorizer()\n",
    "# sum TF\n",
    "cv_mx = cv.fit_transform(df[\"keywords\"])\n",
    "# create cosine similarity matrix\n",
    "# cosine_sim = cosine_similarity(cv_mx, cv_mx)"
   ]
  },
  {
   "cell_type": "markdown",
   "id": "d2e60c2a",
   "metadata": {},
   "source": [
    "adding additonal feature to one hot encoding"
   ]
  },
  {
   "cell_type": "code",
   "execution_count": null,
   "id": "75ffeb0b",
   "metadata": {},
   "outputs": [],
   "source": [
    "data = pd.read_csv('../../Google_review_code/result/review_with_sentiments/taichung_review.csv')\n",
    "data"
   ]
  },
  {
   "cell_type": "code",
   "execution_count": null,
   "id": "cf2c02a6",
   "metadata": {},
   "outputs": [],
   "source": [
    "splits = utils.label_change(data['filename'])"
   ]
  },
  {
   "cell_type": "code",
   "execution_count": null,
   "id": "6fff8d74",
   "metadata": {},
   "outputs": [],
   "source": [
    "filenames = []\n",
    "stars = []\n",
    "senti_stars = []\n",
    "foods = []\n",
    "services = []\n",
    "atmospheres = []\n",
    "values = []\n",
    "\n",
    "for d in np.split(data, splits):\n",
    "    filename = d['filename'].to_numpy()\n",
    "    star = d['star'].to_numpy()\n",
    "    senti_star = d['senti_star'].to_numpy()\n",
    "    food = d['food'].to_numpy()\n",
    "    service = d['service'].to_numpy()\n",
    "    atmosphere = d['atmosphere'].to_numpy()\n",
    "    value = d['value'].to_numpy()\n",
    "    \n",
    "    filenames.append(filename[0])\n",
    "    stars.append(np.mean(star))\n",
    "    \n",
    "    M = ~np.isnan(senti_star)\n",
    "    N = len(np.nonzero(M)[0])\n",
    "    senti_stars.append(np.mean(senti_star[M]))\n",
    "    foods.append(1. * np.sum(food[~np.isnan(food)]) / N)\n",
    "    services.append(1. * np.sum(service[~np.isnan(service)]) / N)\n",
    "    atmospheres.append(1. * np.sum(atmosphere[~np.isnan(atmosphere)]) / N)\n",
    "    values.append(1. * np.sum(value[~np.isnan(value)]) / N)"
   ]
  },
  {
   "cell_type": "code",
   "execution_count": null,
   "id": "e03b0a2e",
   "metadata": {},
   "outputs": [],
   "source": [
    "M = {}\n",
    "\n",
    "for i, j in enumerate(df.index):\n",
    "    M[j] = i"
   ]
  },
  {
   "cell_type": "code",
   "execution_count": null,
   "id": "846c21f3",
   "metadata": {},
   "outputs": [],
   "source": [
    "for n, (i, j) in enumerate(zip(df.index, filenames)):\n",
    "    print(n, i, j)"
   ]
  },
  {
   "cell_type": "code",
   "execution_count": null,
   "id": "19744e25",
   "metadata": {},
   "outputs": [],
   "source": [
    "# I = [M[i] for i in filenames]\n",
    "I = np.arange(len(filenames))\n",
    "\n",
    "filenames = np.r_[filenames][I]\n",
    "stars = np.r_[stars][I]\n",
    "senti_stars = np.r_[senti_stars][I]\n",
    "foods = np.r_[foods][I]\n",
    "services = np.r_[services][I]\n",
    "atmospheres = np.r_[atmospheres][I]\n",
    "values = np.r_[values][I]"
   ]
  },
  {
   "cell_type": "code",
   "execution_count": null,
   "id": "a5b9dd2d",
   "metadata": {},
   "outputs": [],
   "source": [
    "cv_mx_ = cv_mx.toarray()\n",
    "cv_mx_ = cv_mx_.astype(np.float64)\n",
    "cv_mx_"
   ]
  },
  {
   "cell_type": "code",
   "execution_count": null,
   "id": "52f0a8c7",
   "metadata": {},
   "outputs": [],
   "source": [
    "new_add = np.vstack([stars, senti_stars, foods, services, atmospheres, values]).T\n",
    "cv_mx_ = np.hstack([cv_mx_, new_add])"
   ]
  },
  {
   "cell_type": "code",
   "execution_count": null,
   "id": "49d57fb8",
   "metadata": {},
   "outputs": [],
   "source": [
    "cosine_sim = cosine_similarity(cv_mx_, cv_mx_)"
   ]
  },
  {
   "cell_type": "markdown",
   "id": "29b8a2f1",
   "metadata": {},
   "source": [
    "---"
   ]
  },
  {
   "cell_type": "code",
   "execution_count": null,
   "id": "02580397",
   "metadata": {},
   "outputs": [],
   "source": [
    "cosine_sim"
   ]
  },
  {
   "cell_type": "code",
   "execution_count": null,
   "id": "ede1500d",
   "metadata": {},
   "outputs": [],
   "source": [
    "cosine_sim.shape"
   ]
  },
  {
   "cell_type": "code",
   "execution_count": null,
   "id": "76a0cd82",
   "metadata": {},
   "outputs": [],
   "source": [
    "indices = pd.Series(df.index)\n",
    "\n",
    "def recommendations(name, cosine_similarities = cosine_sim):\n",
    "    recommended_restaurant = []\n",
    "    # gettin the index of the hotel that matches the name\n",
    "    idx = indices[indices == name].index[0]\n",
    "\n",
    "    # creating a Series with the similarity scores in descending order\n",
    "    score_series = pd.Series(cosine_similarities[idx]).sort_values(ascending = False)\n",
    "\n",
    "    # getting the indexes of the 5 most similar hotels except itself\n",
    "    top_5_indexes = list(score_series.iloc[1:6].index)\n",
    "    \n",
    "    # populating the list with the names of the top 5 matching hotels\n",
    "    for i in top_5_indexes:\n",
    "        recommended_restaurant.append(list(df.index)[i])\n",
    "        \n",
    "    return recommended_restaurant"
   ]
  },
  {
   "cell_type": "code",
   "execution_count": null,
   "id": "038f847b",
   "metadata": {},
   "outputs": [],
   "source": [
    "recommend = {}\n",
    "for key in new_dict:\n",
    "#     print (key)\n",
    "    top_5 = recommendations(key)\n",
    "    recommend[key]= top_5"
   ]
  },
  {
   "cell_type": "code",
   "execution_count": null,
   "id": "17b8d7f6",
   "metadata": {},
   "outputs": [],
   "source": [
    "recommend"
   ]
  },
  {
   "cell_type": "code",
   "execution_count": null,
   "id": "08b25213",
   "metadata": {},
   "outputs": [],
   "source": [
    "top_N = pd.DataFrame(recommend)"
   ]
  },
  {
   "cell_type": "code",
   "execution_count": null,
   "id": "1b94f5a3",
   "metadata": {},
   "outputs": [],
   "source": [
    "top_N = top_N.T\n",
    "top_N.columns=[\"top_1\", \"top_2\", \"top_3\", \"top_4\", \"top_5\"]"
   ]
  },
  {
   "cell_type": "code",
   "execution_count": null,
   "id": "a9f7bdc6",
   "metadata": {},
   "outputs": [],
   "source": [
    "output_folder2=\"../../Google_review_code/result/recommendations/\"\n",
    "top_N.to_csv(os.path.join(output_folder2,\"taichung_recommend.csv\"), index=\"店名\")"
   ]
  },
  {
   "cell_type": "code",
   "execution_count": null,
   "id": "b77f448d",
   "metadata": {},
   "outputs": [],
   "source": []
  }
 ],
 "metadata": {
  "kernelspec": {
   "display_name": "Python 3",
   "language": "python",
   "name": "python3"
  },
  "language_info": {
   "codemirror_mode": {
    "name": "ipython",
    "version": 3
   },
   "file_extension": ".py",
   "mimetype": "text/x-python",
   "name": "python",
   "nbconvert_exporter": "python",
   "pygments_lexer": "ipython3",
   "version": "3.8.8"
  }
 },
 "nbformat": 4,
 "nbformat_minor": 5
}
