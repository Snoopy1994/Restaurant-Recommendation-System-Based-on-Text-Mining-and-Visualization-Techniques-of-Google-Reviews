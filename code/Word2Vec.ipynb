{
 "cells": [
  {
   "cell_type": "code",
   "execution_count": null,
   "id": "dde25f9c",
   "metadata": {},
   "outputs": [],
   "source": [
    "import pickle\n",
    "import os\n",
    "import pandas as pd\n",
    "import numpy as np\n",
    "import time\n",
    "import math "
   ]
  },
  {
   "cell_type": "code",
   "execution_count": null,
   "id": "06fe7728",
   "metadata": {},
   "outputs": [],
   "source": [
    "from gensim.models import Word2Vec"
   ]
  },
  {
   "cell_type": "code",
   "execution_count": null,
   "id": "2a2d1c7f",
   "metadata": {},
   "outputs": [],
   "source": [
    "path = \"/Users/nadia/Desktop/google reviews/dic\""
   ]
  },
  {
   "cell_type": "code",
   "execution_count": null,
   "id": "bf36ef15",
   "metadata": {},
   "outputs": [],
   "source": [
    "# define function to read pickle\n",
    "def read_pickle(path):\n",
    "    if path[-4:] != '.pkl':\n",
    "        raise ValueError\n",
    "    with open(path, 'rb') as fd:\n",
    "        f = pickle.load(fd)\n",
    "    return f"
   ]
  },
  {
   "cell_type": "code",
   "execution_count": null,
   "id": "29c8addf",
   "metadata": {},
   "outputs": [],
   "source": [
    "# to union each review for each shop\n",
    "def union_ws_result(ckip):\n",
    "    doc = []\n",
    "    for ws in ckip[\"ws\"]:\n",
    "        doc.append(ws)\n",
    "    return doc"
   ]
  },
  {
   "cell_type": "code",
   "execution_count": null,
   "id": "d8098941",
   "metadata": {},
   "outputs": [],
   "source": [
    "def clear(ckip):\n",
    "    ckip_ = ckip.copy()\n",
    "    pos_dic = {\"A\", \"Na\", \"Nb\", \"Nc\", \"Ncd\", \"Nv\", \n",
    "               \"VA\", \"VAC\", \"VB\", \"VC\", \"VCL\", \"VD\", \"VF\", \"VG\", \"VH\", \"VHC\", \n",
    "               \"VI\", \"VJ\", \"VK\", \"VL\", \"V_2\"\n",
    "               }\n",
    "\n",
    "    wss = []\n",
    "    poss = []\n",
    "    for ws, pos in zip(ckip_[\"ws\"], ckip_[\"pos\"]):\n",
    "        wss_ = []\n",
    "        poss_ = []\n",
    "        for i, j in zip(ws, pos):\n",
    "            i = i.replace(\" \", \"\")\n",
    "            if (i != \"\") & (len(i)>1) & (j in pos_dic):\n",
    "                wss_.append(i)\n",
    "                poss_.append(j)\n",
    "        wss.append(wss_)\n",
    "        poss.append(poss_)\n",
    "        \n",
    "    ckip_[\"ws\"] = wss\n",
    "    ckip_[\"pos\"] = poss\n",
    "    return ckip_\n"
   ]
  },
  {
   "cell_type": "code",
   "execution_count": null,
   "id": "8818c137",
   "metadata": {},
   "outputs": [],
   "source": [
    "data = []\n",
    "# read all pickle files\n",
    "for filename in os.listdir(path):\n",
    "    if filename.endswith(\".pkl\"):\n",
    "        ckip = read_pickle(os.path.join(path,filename))\n",
    "        ckip = clear(ckip)\n",
    "        #union result to dictionary\n",
    "        result = union_ws_result(ckip)\n",
    "        data.append(result)"
   ]
  },
  {
   "cell_type": "code",
   "execution_count": null,
   "id": "61502fe6",
   "metadata": {},
   "outputs": [],
   "source": [
    "all_data = []\n",
    "for i in data:\n",
    "    for j in i:\n",
    "        all_data.append(j)"
   ]
  },
  {
   "cell_type": "code",
   "execution_count": null,
   "id": "34afbf15",
   "metadata": {},
   "outputs": [],
   "source": [
    "# model = Word2Vec(all_data, vector_size= 300, epochs= 10, sg=1, min_count=20, hs=1, \n",
    "#                  window=2, workers=4)"
   ]
  },
  {
   "cell_type": "code",
   "execution_count": null,
   "id": "f266d236",
   "metadata": {},
   "outputs": [],
   "source": [
    "#model.save(\"word2vec_model\")"
   ]
  },
  {
   "cell_type": "code",
   "execution_count": null,
   "id": "1e375de0",
   "metadata": {},
   "outputs": [],
   "source": [
    "model = Word2Vec.load(os.path.join(\"../../Google_review_code/model/\",\"word2vec_model\"))"
   ]
  },
  {
   "cell_type": "code",
   "execution_count": null,
   "id": "233d7c39",
   "metadata": {},
   "outputs": [],
   "source": [
    "print(model)"
   ]
  },
  {
   "cell_type": "code",
   "execution_count": null,
   "id": "87793c84",
   "metadata": {},
   "outputs": [],
   "source": [
    "def most_similar(w2v_model, words, topn):\n",
    "    similar_df = pd.DataFrame()\n",
    "    for word in words:\n",
    "        try:\n",
    "            similar_words = pd.DataFrame(w2v_model.wv.most_similar(word, topn=topn), columns=[word, 'cos'])\n",
    "            similar_df = pd.concat([similar_df, similar_words], axis=1)\n",
    "        except:\n",
    "            print(word, \"not found in Word2Vec model!\")\n",
    "    return similar_df"
   ]
  },
  {
   "cell_type": "code",
   "execution_count": null,
   "id": "f26970e6",
   "metadata": {},
   "outputs": [],
   "source": [
    "model.wv.most_similar(\"餐點\")"
   ]
  },
  {
   "cell_type": "code",
   "execution_count": null,
   "id": "0d0874db",
   "metadata": {},
   "outputs": [],
   "source": [
    "four_aspect = most_similar(model, [\"好吃\", \"環境\", \"價格\", \"服務\"], topn=10)\n",
    "four_aspect"
   ]
  },
  {
   "cell_type": "code",
   "execution_count": null,
   "id": "47a78c37",
   "metadata": {},
   "outputs": [],
   "source": [
    "#four_aspect.to_excel(\"dict.xlsx\", index=False)"
   ]
  },
  {
   "cell_type": "code",
   "execution_count": null,
   "id": "440bd6dd",
   "metadata": {},
   "outputs": [],
   "source": [
    "def inter_word(w2v_model, word, topn):\n",
    "    first_iter = w2v_model.wv.most_similar(word, topn=topn)\n",
    "    first_iter_list = []\n",
    "    for i in first_iter:\n",
    "        first_iter_list.append(i[0])\n",
    "                \n",
    "    similar_df = pd.DataFrame()\n",
    "    for first_word in first_iter_list:\n",
    "        try:\n",
    "            similar_words = pd.DataFrame(w2v_model.wv.most_similar(first_word, topn=topn), columns=[first_word, 'cos'])\n",
    "            similar_df = pd.concat([similar_df, similar_words], axis=1)\n",
    "        except:\n",
    "                print(first_word, \"not found in Word2Vec model!\")\n",
    "    return similar_df               "
   ]
  },
  {
   "cell_type": "code",
   "execution_count": null,
   "id": "15a44895",
   "metadata": {},
   "outputs": [],
   "source": [
    "b = inter_word(model,\"服務\", topn=100)"
   ]
  },
  {
   "cell_type": "code",
   "execution_count": null,
   "id": "bb6941b7",
   "metadata": {},
   "outputs": [],
   "source": [
    "b"
   ]
  }
 ],
 "metadata": {
  "kernelspec": {
   "display_name": "Python 3",
   "language": "python",
   "name": "python3"
  },
  "language_info": {
   "codemirror_mode": {
    "name": "ipython",
    "version": 3
   },
   "file_extension": ".py",
   "mimetype": "text/x-python",
   "name": "python",
   "nbconvert_exporter": "python",
   "pygments_lexer": "ipython3",
   "version": "3.8.8"
  }
 },
 "nbformat": 4,
 "nbformat_minor": 5
}
