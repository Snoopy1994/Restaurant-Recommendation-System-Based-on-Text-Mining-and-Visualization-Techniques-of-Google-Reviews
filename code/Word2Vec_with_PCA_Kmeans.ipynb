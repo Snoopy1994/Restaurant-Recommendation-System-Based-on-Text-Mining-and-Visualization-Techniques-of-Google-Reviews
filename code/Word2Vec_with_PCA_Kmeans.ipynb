{
 "cells": [
  {
   "cell_type": "code",
   "execution_count": null,
   "id": "dde25f9c",
   "metadata": {},
   "outputs": [],
   "source": [
    "import pickle\n",
    "import os\n",
    "import pandas as pd\n",
    "import numpy as np\n",
    "import time\n",
    "import math \n",
    "import seaborn as sns"
   ]
  },
  {
   "cell_type": "code",
   "execution_count": null,
   "id": "06fe7728",
   "metadata": {},
   "outputs": [],
   "source": [
    "from collections import Counter\n",
    "from sklearn.manifold import TSNE\n",
    "from gensim.models import Word2Vec\n",
    "from sklearn.decomposition import PCA\n",
    "from sklearn.cluster import KMeans\n",
    "from sklearn.metrics import silhouette_score"
   ]
  },
  {
   "cell_type": "code",
   "execution_count": null,
   "id": "3695993a",
   "metadata": {},
   "outputs": [],
   "source": [
    "import matplotlib as mpl\n",
    "import matplotlib.pyplot as plt\n",
    "import matplotlib.font_manager as fm\n",
    "font = fm.FontProperties(fname= '../../Google_review_code/Handwriting.ttf')"
   ]
  },
  {
   "cell_type": "code",
   "execution_count": null,
   "id": "6068ed4f",
   "metadata": {},
   "outputs": [],
   "source": [
    "path = \"/Users/nadia/Desktop/google reviews/dic\""
   ]
  },
  {
   "cell_type": "code",
   "execution_count": null,
   "id": "5c0beaf3",
   "metadata": {},
   "outputs": [],
   "source": [
    "# define function to read pickle\n",
    "def read_pickle(path):\n",
    "    if path[-4:] != '.pkl':\n",
    "        raise ValueError\n",
    "    with open(path, 'rb') as fd:\n",
    "        f = pickle.load(fd)\n",
    "    return f"
   ]
  },
  {
   "cell_type": "code",
   "execution_count": null,
   "id": "f841cb30",
   "metadata": {},
   "outputs": [],
   "source": [
    "# to union each review for each shop\n",
    "def union_ws_result(ckip):\n",
    "    doc = []\n",
    "    for ws in ckip[\"ws\"]:\n",
    "        doc.append(ws)\n",
    "    return doc"
   ]
  },
  {
   "cell_type": "code",
   "execution_count": null,
   "id": "1c3f97e2",
   "metadata": {},
   "outputs": [],
   "source": [
    "def clear(ckip):\n",
    "    ckip_ = ckip.copy()\n",
    "    pos_dic = {\"A\", \"Na\", \"Nb\", \"Nc\", \"Ncd\", \"Nv\", \n",
    "               \"VA\", \"VAC\", \"VB\", \"VC\", \"VCL\", \"VD\", \"VF\", \"VG\", \"VH\", \"VHC\", \n",
    "               \"VI\", \"VJ\", \"VK\", \"VL\", \"V_2\"\n",
    "               }\n",
    "\n",
    "    wss = []\n",
    "    poss = []\n",
    "    for ws, pos in zip(ckip_[\"ws\"], ckip_[\"pos\"]):\n",
    "        wss_ = []\n",
    "        poss_ = []\n",
    "        for i, j in zip(ws, pos):\n",
    "            i = i.replace(\" \", \"\")\n",
    "            if (i != \"\") & (len(i)>1) & (j in pos_dic):\n",
    "                wss_.append(i)\n",
    "                poss_.append(j)\n",
    "        wss.append(wss_)\n",
    "        poss.append(poss_)\n",
    "        \n",
    "    ckip_[\"ws\"] = wss\n",
    "    ckip_[\"pos\"] = poss\n",
    "    return ckip_"
   ]
  },
  {
   "cell_type": "code",
   "execution_count": null,
   "id": "7cd1a54d",
   "metadata": {},
   "outputs": [],
   "source": [
    "data = []\n",
    "# read all pickle files\n",
    "for filename in os.listdir(path):\n",
    "    if filename.endswith(\".pkl\"):\n",
    "        ckip = read_pickle(os.path.join(path,filename))\n",
    "        ckip = clear(ckip)\n",
    "        #union result to dictionary\n",
    "        result = union_ws_result(ckip)\n",
    "        data.append(result)"
   ]
  },
  {
   "cell_type": "code",
   "execution_count": null,
   "id": "49ddab4c",
   "metadata": {},
   "outputs": [],
   "source": [
    "all_data = []\n",
    "for i in data:\n",
    "    for j in i:\n",
    "        all_data.append(j)"
   ]
  },
  {
   "cell_type": "code",
   "execution_count": null,
   "id": "9a1640c3",
   "metadata": {},
   "outputs": [],
   "source": [
    "model = Word2Vec.load(os.path.join(\"../../Google_review_code/model/\",\"word2vec_model\"))"
   ]
  },
  {
   "cell_type": "code",
   "execution_count": null,
   "id": "8898c950",
   "metadata": {},
   "outputs": [],
   "source": [
    "# fit a 2D PCA model to the vectors\n",
    "vectors = model.wv.vectors\n",
    "words = list(model.wv.key_to_index)\n",
    "pca = PCA(n_components=2)\n",
    "PCA_result = pca.fit_transform(vectors)"
   ]
  },
  {
   "cell_type": "code",
   "execution_count": null,
   "id": "db184cb6",
   "metadata": {},
   "outputs": [],
   "source": [
    "# prepare a dataframe\n",
    "words = pd.DataFrame(words)\n",
    "PCA_result = pd.DataFrame(PCA_result)\n",
    "PCA_result['x_values'] =PCA_result.iloc[0:, 0]\n",
    "PCA_result['y_values'] =PCA_result.iloc[0:, 1]\n",
    "PCA_final = pd.merge(words, PCA_result, left_index=True, right_index=True)\n",
    "PCA_final['word'] =PCA_final.iloc[0:, 0]\n",
    "PCA_data_complet =PCA_final[['word','x_values','y_values']]\n",
    "# PCA_data_complet.to_csv(os.path.join(\"../../Google_review_code/processing_files/\",\n",
    "#                                      'PCA_data_complet.csv'),index=False)"
   ]
  },
  {
   "cell_type": "code",
   "execution_count": null,
   "id": "3b251221",
   "metadata": {},
   "outputs": [],
   "source": [
    "# count TF\n",
    "def count_words(data):\n",
    "    count = Counter()\n",
    "    for text in data:\n",
    "        for word in text:\n",
    "            count[word] +=1\n",
    "    return count"
   ]
  },
  {
   "cell_type": "code",
   "execution_count": null,
   "id": "d53e04d9",
   "metadata": {},
   "outputs": [],
   "source": [
    "count_all = count_words(all_data)\n",
    "words_all = count_all.most_common(100)"
   ]
  },
  {
   "cell_type": "code",
   "execution_count": null,
   "id": "3231caee",
   "metadata": {},
   "outputs": [],
   "source": [
    "words_all= pd.DataFrame(words_all)\n",
    "words_all['word'] = words_all.iloc[0:, 0]\n",
    "words_all['count'] = words_all.iloc[0:, 1]\n",
    "words_all = words_all[['word','count']]\n",
    "# words_all.to_csv(os.path.join(\"../../Google_review_code/processing_files/\",\n",
    "#                               'top100_words.csv'), columns=['word','count'], index=False)"
   ]
  },
  {
   "cell_type": "code",
   "execution_count": null,
   "id": "c70fc8d2",
   "metadata": {},
   "outputs": [],
   "source": [
    "# restriction to 100 most frequent words\n",
    "top100_words = pd.read_csv(os.path.join(\"../../Google_review_code/processing_files/\",\n",
    "                                        'top100_words.csv'))\n",
    "PCA_data_top_100 = PCA_data_complet.merge(top100_words, how='inner', left_on='word',right_on='word')\n",
    "# PCA_data_top_100.to_csv(os,path.join(\"../../Google_review_code/processing_files/\",\n",
    "#                                      'PCA_data_top_100.csv'), index=False)"
   ]
  },
  {
   "cell_type": "code",
   "execution_count": null,
   "id": "544644ef",
   "metadata": {},
   "outputs": [],
   "source": [
    "cluster_data = PCA_data_top_100.to_numpy()[:, 1:3].astype(np.float64)\n",
    "k = 4\n",
    "I = np.random.randint(0, len(cluster_data), k)\n",
    "\n",
    "cluster_data[I]"
   ]
  },
  {
   "cell_type": "code",
   "execution_count": null,
   "id": "a267127c",
   "metadata": {},
   "outputs": [],
   "source": [
    "kmeans = KMeans(n_clusters=3, random_state=216).fit(cluster_data)\n",
    "kmeans_labels = np.array(kmeans.labels_)\n",
    "kmeans_labels"
   ]
  },
  {
   "cell_type": "code",
   "execution_count": null,
   "id": "396a9797",
   "metadata": {},
   "outputs": [],
   "source": [
    "PCA_words = PCA_data_top_100[\"word\"].to_numpy()\n",
    "PCA_words"
   ]
  },
  {
   "cell_type": "code",
   "execution_count": null,
   "id": "6f8fe874",
   "metadata": {
    "scrolled": true
   },
   "outputs": [],
   "source": [
    "words_catagory = np.vstack((PCA_words, kmeans_labels)).T\n",
    "words_catagory"
   ]
  },
  {
   "cell_type": "code",
   "execution_count": null,
   "id": "d89ed8ca",
   "metadata": {},
   "outputs": [],
   "source": [
    "PCA_data_top_100[\"cluster\"]= words_catagory[:,1]\n",
    "# PCA_data_top_100.to_csv(os.path.join(\"../../Google_review_code/processing_files/\", \n",
    "#                                      \"PCA_data_top_100_with_cluster.csv\"), index=None)"
   ]
  },
  {
   "cell_type": "code",
   "execution_count": null,
   "id": "2b1a8f08",
   "metadata": {},
   "outputs": [],
   "source": [
    "centers = np.vstack(kmeans.cluster_centers_).T\n",
    "txt = PCA_data_top_100[\"word\"]\n",
    "\n",
    "X=PCA_data_top_100[\"x_values\"]\n",
    "Y=PCA_data_top_100[\"y_values\"]\n",
    "\n",
    "plt.figure(dpi=150)\n",
    "plt.scatter(X, Y, c=PCA_data_top_100[\"cluster\"], cmap=\"summer\")\n",
    "plt.scatter(centers[0], centers[1], marker=\"X\", s=50, c=\"b\")\n",
    "for i in range(len(X)):\n",
    "    plt.annotate(txt[i], xy=(X[i], Y[i]), xytext=(X[i], Y[i]), fontproperties=font)\n",
    "plt.legend([\"Group\", \"Center\"])\n",
    "#plt.title(\"Word2vec with PCA and Kmeans\", size=17)\n",
    "\n",
    "plt.show()"
   ]
  },
  {
   "cell_type": "markdown",
   "id": "0ceacb53",
   "metadata": {},
   "source": [
    "---\n"
   ]
  },
  {
   "cell_type": "markdown",
   "id": "dc3333aa",
   "metadata": {},
   "source": [
    "Inertia :\n",
    "Inertia measures how well a dataset was clustered by K-Means."
   ]
  },
  {
   "cell_type": "code",
   "execution_count": null,
   "id": "f8de6d5a",
   "metadata": {},
   "outputs": [],
   "source": [
    "kmeans_list = [KMeans(n_clusters=k, random_state=46).fit(cluster_data)\n",
    "                for k in range(1, 10)]\n",
    "inertias = [model.inertia_ for model in kmeans_list]\n",
    "inertias"
   ]
  },
  {
   "cell_type": "code",
   "execution_count": null,
   "id": "f74bcdbb",
   "metadata": {
    "scrolled": true
   },
   "outputs": [],
   "source": [
    "plt.rcParams['figure.figsize'] = [8,8]\n",
    "sns.set_style(\"whitegrid\")\n",
    "colors = plt.rcParams['axes.prop_cycle'].by_key()['color']\n",
    "\n",
    "inertia_list = []\n",
    "for num_clusters in range(1, 11):\n",
    "    kmeans_model = KMeans(n_clusters=num_clusters, init=\"k-means++\")\n",
    "    kmeans_model.fit(cluster_data)\n",
    "    inertia_list.append(kmeans_model.inertia_)\n",
    "    \n",
    "# plot the inertia curve\n",
    "plt.figure(dpi=150)\n",
    "plt.plot(range(1,11),inertia_list)\n",
    "plt.scatter(range(1,11),inertia_list)\n",
    "#plt.scatter(3, inertia_list[2], marker=\"X\", s=300, c=\"r\")\n",
    "plt.xlabel(\"Number of Clusters\", size=13)\n",
    "plt.ylabel(\"Inertia Value\", size=13)\n",
    "#plt.title(\"Different Inertia Values for Different Number of Clusters\", size=17)\n"
   ]
  },
  {
   "cell_type": "markdown",
   "id": "03338dae",
   "metadata": {},
   "source": [
    "---"
   ]
  },
  {
   "cell_type": "markdown",
   "id": "b01324d8",
   "metadata": {},
   "source": [
    "Silhouette Coefficient:"
   ]
  },
  {
   "cell_type": "code",
   "execution_count": null,
   "id": "cb00d555",
   "metadata": {},
   "outputs": [],
   "source": [
    "silhouette_avg = []\n",
    "for i in range(2,11):\n",
    "    kmeans_fit = KMeans(n_clusters = i).fit(cluster_data)\n",
    "    silhouette_avg.append(silhouette_score(cluster_data, kmeans_fit.labels_))\n",
    "\n",
    "plt.figure(dpi=150)\n",
    "plt.plot(range(2,11), silhouette_avg)\n",
    "plt.xlabel(\"Number of Clusters\", size=13)\n",
    "plt.ylabel(\"Silhouette Score\", size=13)\n",
    "#plt.title(\"Different Silhouette Coefficient Score for Different Number of Clusters\", size=17)"
   ]
  },
  {
   "cell_type": "markdown",
   "id": "85199603",
   "metadata": {},
   "source": [
    "---"
   ]
  },
  {
   "cell_type": "markdown",
   "id": "dc23cb44",
   "metadata": {},
   "source": [
    "Try all data"
   ]
  },
  {
   "cell_type": "code",
   "execution_count": null,
   "id": "e55c40fd",
   "metadata": {},
   "outputs": [],
   "source": [
    "all_PCA_data = pd.read_csv(os.path.join(\"../../Google_review_code/processing_files/\",\n",
    "                           'PCA_data_complet.csv'))\n",
    "all_cluster_data = all_PCA_data.to_numpy()[:, 1:3].astype(np.float64)\n",
    "KMEANS = KMeans(n_clusters=3).fit(all_cluster_data)\n",
    "KMEANS_labels = np.array(KMEANS.labels_)\n",
    "ALL_PCA_words = all_PCA_data[\"word\"].to_numpy()\n",
    "WORDS_catagory = np.vstack((ALL_PCA_words, KMEANS_labels)).T\n",
    "df = pd.DataFrame(WORDS_catagory, columns = ['word','catagory'])\n",
    "\n",
    "all_PCA_data_with_cluster= PCA_data_complet.merge(df, how='inner', left_on='word',right_on='word')\n",
    "# all_PCA_data_with_cluster.to_excel(os.path.join(\"../../Google_review_code/processing_files/\",\n",
    "#                           \"all_PCA_data_with_cluster.xlsx\"), index=False)"
   ]
  },
  {
   "cell_type": "code",
   "execution_count": null,
   "id": "f1547d31",
   "metadata": {},
   "outputs": [],
   "source": [
    "all_PCA_data_with_cluster"
   ]
  },
  {
   "cell_type": "code",
   "execution_count": null,
   "id": "0c63547e",
   "metadata": {},
   "outputs": [],
   "source": [
    "centers = np.vstack(kmeans.cluster_centers_).T\n",
    "txt = all_PCA_data_with_cluster[\"word\"]\n",
    "\n",
    "X=all_PCA_data_with_cluster[\"x_values\"]\n",
    "Y=all_PCA_data_with_cluster[\"y_values\"]\n",
    "\n",
    "plt.figure(dpi=150)\n",
    "plt.scatter(X, Y, c=all_PCA_data_with_cluster[\"catagory\"], cmap=\"summer\")\n",
    "plt.scatter(centers[0], centers[1], marker=\"X\", s=50, c=\"b\")\n",
    "for i in range(len(X)):\n",
    "    plt.annotate(txt[i], xy=(X[i], Y[i]), xytext=(X[i], Y[i]), fontproperties=font)\n",
    "plt.legend([\"Group\", \"Center\"])\n",
    "#plt.title(\"Word2vec with PCA and Kmeans\", size=17)\n",
    "\n",
    "plt.show()"
   ]
  },
  {
   "cell_type": "code",
   "execution_count": null,
   "id": "dcb4adf2",
   "metadata": {},
   "outputs": [],
   "source": [
    "silhouette_avg2 = []\n",
    "for i in range(2,11):\n",
    "    kmeans_fit = KMeans(n_clusters = i).fit(all_cluster_data)\n",
    "    silhouette_avg2.append(silhouette_score(all_cluster_data, kmeans_fit.labels_))\n",
    "\n",
    "plt.figure(dpi=150)\n",
    "plt.plot(range(2,11), silhouette_avg2)\n",
    "plt.xlabel(\"Number of Clusters\", size=13)\n",
    "plt.ylabel(\"Silhouette Score\", size=13)\n",
    "#plt.title(\"Different Silhouette Coefficient Score for Different Number of Clusters\", size=15)"
   ]
  },
  {
   "cell_type": "code",
   "execution_count": null,
   "id": "8ddff028",
   "metadata": {},
   "outputs": [],
   "source": []
  }
 ],
 "metadata": {
  "kernelspec": {
   "display_name": "Python 3",
   "language": "python",
   "name": "python3"
  },
  "language_info": {
   "codemirror_mode": {
    "name": "ipython",
    "version": 3
   },
   "file_extension": ".py",
   "mimetype": "text/x-python",
   "name": "python",
   "nbconvert_exporter": "python",
   "pygments_lexer": "ipython3",
   "version": "3.8.8"
  }
 },
 "nbformat": 4,
 "nbformat_minor": 5
}
